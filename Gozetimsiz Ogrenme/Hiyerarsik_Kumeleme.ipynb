{
 "cells": [
  {
   "cell_type": "markdown",
   "id": "4deb3338",
   "metadata": {},
   "source": [
    "# Hiyerarsik Kumeleme"
   ]
  },
  {
   "cell_type": "code",
   "execution_count": 7,
   "id": "801f53eb",
   "metadata": {},
   "outputs": [],
   "source": [
    "import numpy as np\n",
    "import pandas as pd\n",
    "import matplotlib.pyplot as plt\n",
    "from scipy.cluster.hierarchy import linkage, dendrogram"
   ]
  },
  {
   "cell_type": "code",
   "execution_count": 2,
   "id": "66f68ccd",
   "metadata": {},
   "outputs": [],
   "source": [
    "data_file = \"USArrests.csv\""
   ]
  },
  {
   "cell_type": "code",
   "execution_count": 4,
   "id": "a36aa0bf",
   "metadata": {},
   "outputs": [
    {
     "data": {
      "text/html": [
       "<div>\n",
       "<style scoped>\n",
       "    .dataframe tbody tr th:only-of-type {\n",
       "        vertical-align: middle;\n",
       "    }\n",
       "\n",
       "    .dataframe tbody tr th {\n",
       "        vertical-align: top;\n",
       "    }\n",
       "\n",
       "    .dataframe thead th {\n",
       "        text-align: right;\n",
       "    }\n",
       "</style>\n",
       "<table border=\"1\" class=\"dataframe\">\n",
       "  <thead>\n",
       "    <tr style=\"text-align: right;\">\n",
       "      <th></th>\n",
       "      <th>Murder</th>\n",
       "      <th>Assault</th>\n",
       "      <th>UrbanPop</th>\n",
       "      <th>Rape</th>\n",
       "    </tr>\n",
       "  </thead>\n",
       "  <tbody>\n",
       "    <tr>\n",
       "      <th>0</th>\n",
       "      <td>13.2</td>\n",
       "      <td>236</td>\n",
       "      <td>58</td>\n",
       "      <td>21.2</td>\n",
       "    </tr>\n",
       "    <tr>\n",
       "      <th>1</th>\n",
       "      <td>10.0</td>\n",
       "      <td>263</td>\n",
       "      <td>48</td>\n",
       "      <td>44.5</td>\n",
       "    </tr>\n",
       "    <tr>\n",
       "      <th>2</th>\n",
       "      <td>8.1</td>\n",
       "      <td>294</td>\n",
       "      <td>80</td>\n",
       "      <td>31.0</td>\n",
       "    </tr>\n",
       "    <tr>\n",
       "      <th>3</th>\n",
       "      <td>8.8</td>\n",
       "      <td>190</td>\n",
       "      <td>50</td>\n",
       "      <td>19.5</td>\n",
       "    </tr>\n",
       "    <tr>\n",
       "      <th>4</th>\n",
       "      <td>9.0</td>\n",
       "      <td>276</td>\n",
       "      <td>91</td>\n",
       "      <td>40.6</td>\n",
       "    </tr>\n",
       "  </tbody>\n",
       "</table>\n",
       "</div>"
      ],
      "text/plain": [
       "   Murder  Assault  UrbanPop  Rape\n",
       "0    13.2      236        58  21.2\n",
       "1    10.0      263        48  44.5\n",
       "2     8.1      294        80  31.0\n",
       "3     8.8      190        50  19.5\n",
       "4     9.0      276        91  40.6"
      ]
     },
     "execution_count": 4,
     "metadata": {},
     "output_type": "execute_result"
    }
   ],
   "source": [
    "df = pd.read_csv(data_file)\n",
    "df = df.iloc[:, 1:5]\n",
    "df.head()"
   ]
  },
  {
   "cell_type": "code",
   "execution_count": 8,
   "id": "daae5388",
   "metadata": {},
   "outputs": [
    {
     "data": {
      "text/plain": [
       "{'icoord': [[5.0, 5.0, 15.0, 15.0],\n",
       "  [25.0, 25.0, 35.0, 35.0],\n",
       "  [45.0, 45.0, 55.0, 55.0],\n",
       "  [30.0, 30.0, 50.0, 50.0],\n",
       "  [10.0, 10.0, 40.0, 40.0],\n",
       "  [65.0, 65.0, 75.0, 75.0],\n",
       "  [105.0, 105.0, 115.0, 115.0],\n",
       "  [95.0, 95.0, 110.0, 110.0],\n",
       "  [85.0, 85.0, 102.5, 102.5],\n",
       "  [70.0, 70.0, 93.75, 93.75],\n",
       "  [25.0, 25.0, 81.875, 81.875]],\n",
       " 'dcoord': [[0.0, 38.5279119600323, 38.5279119600323, 0.0],\n",
       "  [0.0, 48.72514751132109, 48.72514751132109, 0.0],\n",
       "  [0.0, 53.59337645642417, 53.59337645642417, 0.0],\n",
       "  [48.72514751132109, 64.99361507102063, 64.99361507102063, 53.59337645642417],\n",
       "  [38.5279119600323,\n",
       "   102.86155744494636,\n",
       "   102.86155744494636,\n",
       "   64.99361507102063],\n",
       "  [0.0, 68.76227163205125, 68.76227163205125, 0.0],\n",
       "  [0.0, 41.48795005781799, 41.48795005781799, 0.0],\n",
       "  [0.0, 57.27102234114561, 57.27102234114561, 41.48795005781799],\n",
       "  [0.0, 87.32634195934237, 87.32634195934237, 57.27102234114561],\n",
       "  [68.76227163205125, 168.6114171697753, 168.6114171697753, 87.32634195934237],\n",
       "  [102.86155744494636,\n",
       "   293.6227511620992,\n",
       "   293.6227511620992,\n",
       "   168.6114171697753]],\n",
       " 'ivl': ['8',\n",
       "  '32',\n",
       "  '(3)',\n",
       "  '(3)',\n",
       "  '(3)',\n",
       "  '(5)',\n",
       "  '(6)',\n",
       "  '(8)',\n",
       "  '(10)',\n",
       "  '(5)',\n",
       "  '(3)',\n",
       "  '(2)'],\n",
       " 'leaves': [8, 32, 72, 81, 71, 85, 86, 87, 83, 84, 62, 63],\n",
       " 'color_list': ['C1',\n",
       "  'C1',\n",
       "  'C1',\n",
       "  'C1',\n",
       "  'C1',\n",
       "  'C2',\n",
       "  'C2',\n",
       "  'C2',\n",
       "  'C2',\n",
       "  'C2',\n",
       "  'C0'],\n",
       " 'leaves_color_list': ['C1',\n",
       "  'C1',\n",
       "  'C1',\n",
       "  'C1',\n",
       "  'C1',\n",
       "  'C1',\n",
       "  'C2',\n",
       "  'C2',\n",
       "  'C2',\n",
       "  'C2',\n",
       "  'C2',\n",
       "  'C2']}"
      ]
     },
     "execution_count": 8,
     "metadata": {},
     "output_type": "execute_result"
    },
    {
     "data": {
      "image/png": "[encoded data removed]",
      "text/plain": [
       "<Figure size 1152x648 with 1 Axes>"
      ]
     },
     "metadata": {
      "needs_background": "light"
     },
     "output_type": "display_data"
    }
   ],
   "source": [
    "complete = linkage(df, \"complete\")\n",
    "plt.figure(figsize=(16, 9))\n",
    "plt.title(\"Hiyerarsik Kumeleme\")\n",
    "plt.xlabel(\"Index\")\n",
    "plt.ylabel(\"Distance\")\n",
    "dendrogram(complete, truncate_mode=\"lastp\", p=12, show_contracted=True)"
   ]
  },
  {
   "cell_type": "code",
   "execution_count": null,
   "id": "ead4136d",
   "metadata": {},
   "outputs": [],
   "source": []
  }
 ],
 "metadata": {
  "kernelspec": {
   "display_name": "Python 3 (ipykernel)",
   "language": "python",
   "name": "python3"
  },
  "language_info": {
   "codemirror_mode": {
    "name": "ipython",
    "version": 3
   },
   "file_extension": ".py",
   "mimetype": "text/x-python",
   "name": "python",
   "nbconvert_exporter": "python",
   "pygments_lexer": "ipython3",
   "version": "3.9.12"
  }
 },
 "nbformat": 4,
 "nbformat_minor": 5
}
